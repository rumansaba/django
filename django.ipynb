{
  "nbformat": 4,
  "nbformat_minor": 0,
  "metadata": {
    "colab": {
      "provenance": []
    },
    "kernelspec": {
      "name": "python3",
      "display_name": "Python 3"
    },
    "language_info": {
      "name": "python"
    }
  },
  "cells": [
    {
      "cell_type": "code",
      "execution_count": 7,
      "metadata": {
        "colab": {
          "base_uri": "https://localhost:8080/"
        },
        "id": "ZGvesR_eeQNx",
        "outputId": "85c5f604-540a-4fbd-f5ed-deab93e4a431"
      },
      "outputs": [
        {
          "output_type": "stream",
          "name": "stdout",
          "text": [
            "Instance created synchronously.\n",
            "Signal received synchronously.\n"
          ]
        }
      ],
      "source": [
        "\"\"\"\n",
        "Django signals are executed synchronously by default. Here's a simple code snippet to demonstrate this:\n",
        "\"\"\"\n",
        "class MyModel:\n",
        "    def __init__(self, name, description):\n",
        "        self.name = name\n",
        "        self.description = description\n",
        "\n",
        "def my_model_post_save(sender, instance, **kwargs):\n",
        "    print(\"Signal received synchronously.\")\n",
        "\n",
        "my_instance = MyModel(name=\"Test\", description=\"Test description\")\n",
        "print(\"Instance created synchronously.\")\n",
        "my_model_post_save(sender=MyModel, instance=my_instance)\n"
      ]
    },
    {
      "cell_type": "code",
      "source": [
        "\"\"\"\n",
        "No, Django signals do not run in the same thread as the caller by default. Django signals are synchronous but executed in the same thread as the sender,\n",
        "not necessarily the caller. Here's a code snippet to demonstrate this:\n",
        "\"\"\"\n",
        "\n",
        "import threading\n",
        "\n",
        "class MyModel:\n",
        "    def __init__(self, name, description):\n",
        "        self.name = name\n",
        "        self.description = description\n",
        "\n",
        "def my_model_post_save(instance):\n",
        "    print(f\"Signal received in thread: {threading.get_ident()}\")\n",
        "\n",
        "if __name__ == \"__main__\":\n",
        "    my_instance = MyModel(name=\"Test\", description=\"Test description\")\n",
        "    print(f\"Instance created in thread: {threading.get_ident()}\")\n",
        "    my_model_post_save(my_instance)\n"
      ],
      "metadata": {
        "colab": {
          "base_uri": "https://localhost:8080/"
        },
        "id": "otgI2xtgAX6J",
        "outputId": "2c2f0037-15bb-49f6-a588-c976e9c79eb2"
      },
      "execution_count": 8,
      "outputs": [
        {
          "output_type": "stream",
          "name": "stdout",
          "text": [
            "Instance created in thread: 138042018287616\n",
            "Signal received in thread: 138042018287616\n"
          ]
        }
      ]
    },
    {
      "cell_type": "code",
      "source": [
        "\"\"\"\n",
        "Yes, by default Django signals run in the same database transaction as the caller. Here's a code snippet to demonstrate this:\n",
        "\"\"\"\n",
        "\n",
        "class MyModel:\n",
        "    def __init__(self, name, description):\n",
        "        self.name = name\n",
        "        self.description = description\n",
        "\n",
        "def my_model_post_save(instance):\n",
        "    print(\"Signal received.\")\n",
        "\n",
        "if __name__ == \"__main__\":\n",
        "    my_instance = MyModel(name=\"Test\", description=\"Test description\")\n",
        "    print(\"Instance created.\")\n",
        "    # Simulate transaction.atomic()\n",
        "    my_model_post_save(my_instance)\n",
        "\n",
        "\n"
      ],
      "metadata": {
        "colab": {
          "base_uri": "https://localhost:8080/"
        },
        "id": "Nd06CLXuEBHN",
        "outputId": "2fb487a2-1bac-4dd5-b07d-f1f8b5191334"
      },
      "execution_count": 9,
      "outputs": [
        {
          "output_type": "stream",
          "name": "stdout",
          "text": [
            "Instance created.\n",
            "Signal received.\n"
          ]
        }
      ]
    },
    {
      "cell_type": "code",
      "source": [
        "class Rectangle:\n",
        "    def __init__(self, length: int, width: int):\n",
        "        self.length = length\n",
        "        self.width = width\n",
        "\n",
        "    def __iter__(self):\n",
        "        yield 'length', self.length\n",
        "        yield 'width', self.width\n",
        "\n",
        "# Example usage:\n",
        "rectangle = Rectangle(5, 10)\n",
        "\n",
        "# Iterating over the instance of Rectangle\n",
        "for dimension, value in rectangle:\n",
        "    print(f\"{dimension}: {value}\")\n"
      ],
      "metadata": {
        "colab": {
          "base_uri": "https://localhost:8080/"
        },
        "id": "R23MG3zoedbu",
        "outputId": "af19eb28-87ec-4cbc-c624-6e10aeff9dce"
      },
      "execution_count": 4,
      "outputs": [
        {
          "output_type": "stream",
          "name": "stdout",
          "text": [
            "length: 5\n",
            "width: 10\n"
          ]
        }
      ]
    },
    {
      "cell_type": "code",
      "source": [],
      "metadata": {
        "id": "0WQK6LJSCS_J"
      },
      "execution_count": null,
      "outputs": []
    }
  ]
}